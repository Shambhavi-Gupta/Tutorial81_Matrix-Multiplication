{
  "nbformat": 4,
  "nbformat_minor": 0,
  "metadata": {
    "colab": {
      "name": "Tutorial81_Matrix -Multiplication.ipynb",
      "provenance": [],
      "authorship_tag": "ABX9TyMqrUMdR+zdC+2BI6k3uYU2",
      "include_colab_link": true
    },
    "kernelspec": {
      "name": "python3",
      "display_name": "Python 3"
    }
  },
  "cells": [
    {
      "cell_type": "markdown",
      "metadata": {
        "id": "view-in-github",
        "colab_type": "text"
      },
      "source": [
        "<a href=\"https://colab.research.google.com/github/Shambhavi-Gupta/Tutorial81_Matrix-Multiplication/blob/main/Tutorial81_Matrix_Multiplication.ipynb\" target=\"_parent\"><img src=\"https://colab.research.google.com/assets/colab-badge.svg\" alt=\"Open In Colab\"/></a>"
      ]
    },
    {
      "cell_type": "code",
      "metadata": {
        "id": "6efTGrEyuYZv"
      },
      "source": [
        "import numpy as np\r\n",
        "#help(np.dot)\r\n",
        "# a = np.array([[1,2],[3,4]])\r\n",
        "# b = np.array([[4,5],[6,7]])\r\n",
        "# # print(a*b)\r\n",
        "# print(a.dot(b))\r\n",
        "\r\n",
        "a = np.array([[9,8],[7,6]])\r\n",
        "b = np.array([[1,2],[3,4]])\r\n",
        "print(a.dot(b))"
      ],
      "execution_count": null,
      "outputs": []
    }
  ]
}